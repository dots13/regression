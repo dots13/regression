{
 "cells": [
  {
   "cell_type": "code",
   "execution_count": 1,
   "id": "ae91dac7",
   "metadata": {},
   "outputs": [],
   "source": [
    "import numpy as np\n",
    "import pandas as pd\n",
    "import seaborn as sns\n",
    "import matplotlib.pyplot as plt\n",
    "\n",
    "from sklearn.model_selection import train_test_split\n",
    "from sklearn.feature_selection import VarianceThreshold\n",
    "\n",
    "from sklearn.linear_model import LinearRegression\n",
    "from sklearn.metrics import mean_squared_error\n",
    "\n",
    "import pickle"
   ]
  },
  {
   "cell_type": "code",
   "execution_count": 2,
   "id": "42773070",
   "metadata": {},
   "outputs": [
    {
     "name": "stdout",
     "output_type": "stream",
     "text": [
      "(300000, 16)\n",
      "(200000, 15)\n"
     ]
    }
   ],
   "source": [
    "df_train = pd.read_csv('data/train.csv')\n",
    "df_val = pd.read_csv('data/test.csv')\n",
    "\n",
    "#df_train_original = pd.read_csv('data/train.csv')\n",
    "\n",
    "print(df_train.shape)\n",
    "print(df_val.shape)     "
   ]
  },
  {
   "cell_type": "code",
   "execution_count": 3,
   "id": "39dc2acb",
   "metadata": {},
   "outputs": [
    {
     "data": {
      "text/html": [
       "<div>\n",
       "<style scoped>\n",
       "    .dataframe tbody tr th:only-of-type {\n",
       "        vertical-align: middle;\n",
       "    }\n",
       "\n",
       "    .dataframe tbody tr th {\n",
       "        vertical-align: top;\n",
       "    }\n",
       "\n",
       "    .dataframe thead th {\n",
       "        text-align: right;\n",
       "    }\n",
       "</style>\n",
       "<table border=\"1\" class=\"dataframe\">\n",
       "  <thead>\n",
       "    <tr style=\"text-align: right;\">\n",
       "      <th></th>\n",
       "      <th>id</th>\n",
       "      <th>cont1</th>\n",
       "      <th>cont2</th>\n",
       "      <th>cont3</th>\n",
       "      <th>cont4</th>\n",
       "      <th>cont5</th>\n",
       "      <th>cont6</th>\n",
       "      <th>cont7</th>\n",
       "      <th>cont8</th>\n",
       "      <th>cont9</th>\n",
       "      <th>cont10</th>\n",
       "      <th>cont11</th>\n",
       "      <th>cont12</th>\n",
       "      <th>cont13</th>\n",
       "      <th>cont14</th>\n",
       "      <th>target</th>\n",
       "    </tr>\n",
       "  </thead>\n",
       "  <tbody>\n",
       "    <tr>\n",
       "      <th>0</th>\n",
       "      <td>1</td>\n",
       "      <td>0.670390</td>\n",
       "      <td>0.811300</td>\n",
       "      <td>0.643968</td>\n",
       "      <td>0.291791</td>\n",
       "      <td>0.284117</td>\n",
       "      <td>0.855953</td>\n",
       "      <td>0.890700</td>\n",
       "      <td>0.285542</td>\n",
       "      <td>0.558245</td>\n",
       "      <td>0.779418</td>\n",
       "      <td>0.921832</td>\n",
       "      <td>0.866772</td>\n",
       "      <td>0.878733</td>\n",
       "      <td>0.305411</td>\n",
       "      <td>7.243043</td>\n",
       "    </tr>\n",
       "    <tr>\n",
       "      <th>1</th>\n",
       "      <td>3</td>\n",
       "      <td>0.388053</td>\n",
       "      <td>0.621104</td>\n",
       "      <td>0.686102</td>\n",
       "      <td>0.501149</td>\n",
       "      <td>0.643790</td>\n",
       "      <td>0.449805</td>\n",
       "      <td>0.510824</td>\n",
       "      <td>0.580748</td>\n",
       "      <td>0.418335</td>\n",
       "      <td>0.432632</td>\n",
       "      <td>0.439872</td>\n",
       "      <td>0.434971</td>\n",
       "      <td>0.369957</td>\n",
       "      <td>0.369484</td>\n",
       "      <td>8.203331</td>\n",
       "    </tr>\n",
       "    <tr>\n",
       "      <th>2</th>\n",
       "      <td>4</td>\n",
       "      <td>0.834950</td>\n",
       "      <td>0.227436</td>\n",
       "      <td>0.301584</td>\n",
       "      <td>0.293408</td>\n",
       "      <td>0.606839</td>\n",
       "      <td>0.829175</td>\n",
       "      <td>0.506143</td>\n",
       "      <td>0.558771</td>\n",
       "      <td>0.587603</td>\n",
       "      <td>0.823312</td>\n",
       "      <td>0.567007</td>\n",
       "      <td>0.677708</td>\n",
       "      <td>0.882938</td>\n",
       "      <td>0.303047</td>\n",
       "      <td>7.776091</td>\n",
       "    </tr>\n",
       "  </tbody>\n",
       "</table>\n",
       "</div>"
      ],
      "text/plain": [
       "   id     cont1     cont2     cont3     cont4     cont5     cont6     cont7  \\\n",
       "0   1  0.670390  0.811300  0.643968  0.291791  0.284117  0.855953  0.890700   \n",
       "1   3  0.388053  0.621104  0.686102  0.501149  0.643790  0.449805  0.510824   \n",
       "2   4  0.834950  0.227436  0.301584  0.293408  0.606839  0.829175  0.506143   \n",
       "\n",
       "      cont8     cont9    cont10    cont11    cont12    cont13    cont14  \\\n",
       "0  0.285542  0.558245  0.779418  0.921832  0.866772  0.878733  0.305411   \n",
       "1  0.580748  0.418335  0.432632  0.439872  0.434971  0.369957  0.369484   \n",
       "2  0.558771  0.587603  0.823312  0.567007  0.677708  0.882938  0.303047   \n",
       "\n",
       "     target  \n",
       "0  7.243043  \n",
       "1  8.203331  \n",
       "2  7.776091  "
      ]
     },
     "execution_count": 3,
     "metadata": {},
     "output_type": "execute_result"
    }
   ],
   "source": [
    "df_train.head(3)"
   ]
  },
  {
   "cell_type": "code",
   "execution_count": 4,
   "id": "04057c98",
   "metadata": {},
   "outputs": [
    {
     "data": {
      "text/html": [
       "<div>\n",
       "<style scoped>\n",
       "    .dataframe tbody tr th:only-of-type {\n",
       "        vertical-align: middle;\n",
       "    }\n",
       "\n",
       "    .dataframe tbody tr th {\n",
       "        vertical-align: top;\n",
       "    }\n",
       "\n",
       "    .dataframe thead th {\n",
       "        text-align: right;\n",
       "    }\n",
       "</style>\n",
       "<table border=\"1\" class=\"dataframe\">\n",
       "  <thead>\n",
       "    <tr style=\"text-align: right;\">\n",
       "      <th></th>\n",
       "      <th>id</th>\n",
       "      <th>cont1</th>\n",
       "      <th>cont2</th>\n",
       "      <th>cont3</th>\n",
       "      <th>cont4</th>\n",
       "      <th>cont5</th>\n",
       "      <th>cont6</th>\n",
       "      <th>cont7</th>\n",
       "      <th>cont8</th>\n",
       "      <th>cont9</th>\n",
       "      <th>cont10</th>\n",
       "      <th>cont11</th>\n",
       "      <th>cont12</th>\n",
       "      <th>cont13</th>\n",
       "      <th>cont14</th>\n",
       "      <th>target</th>\n",
       "    </tr>\n",
       "  </thead>\n",
       "  <tbody>\n",
       "    <tr>\n",
       "      <th>count</th>\n",
       "      <td>300000.000000</td>\n",
       "      <td>300000.000000</td>\n",
       "      <td>300000.000000</td>\n",
       "      <td>300000.000000</td>\n",
       "      <td>300000.000000</td>\n",
       "      <td>300000.000000</td>\n",
       "      <td>300000.000000</td>\n",
       "      <td>300000.000000</td>\n",
       "      <td>300000.000000</td>\n",
       "      <td>300000.000000</td>\n",
       "      <td>300000.000000</td>\n",
       "      <td>300000.000000</td>\n",
       "      <td>300000.000000</td>\n",
       "      <td>300000.000000</td>\n",
       "      <td>300000.000000</td>\n",
       "      <td>300000.000000</td>\n",
       "    </tr>\n",
       "    <tr>\n",
       "      <th>mean</th>\n",
       "      <td>249825.145857</td>\n",
       "      <td>0.506873</td>\n",
       "      <td>0.497898</td>\n",
       "      <td>0.521557</td>\n",
       "      <td>0.515683</td>\n",
       "      <td>0.502022</td>\n",
       "      <td>0.526515</td>\n",
       "      <td>0.487890</td>\n",
       "      <td>0.525163</td>\n",
       "      <td>0.459857</td>\n",
       "      <td>0.520532</td>\n",
       "      <td>0.483926</td>\n",
       "      <td>0.506877</td>\n",
       "      <td>0.553442</td>\n",
       "      <td>0.503713</td>\n",
       "      <td>7.905661</td>\n",
       "    </tr>\n",
       "    <tr>\n",
       "      <th>std</th>\n",
       "      <td>144476.732562</td>\n",
       "      <td>0.203976</td>\n",
       "      <td>0.228159</td>\n",
       "      <td>0.200770</td>\n",
       "      <td>0.233035</td>\n",
       "      <td>0.220701</td>\n",
       "      <td>0.217909</td>\n",
       "      <td>0.181096</td>\n",
       "      <td>0.216221</td>\n",
       "      <td>0.196685</td>\n",
       "      <td>0.201854</td>\n",
       "      <td>0.220082</td>\n",
       "      <td>0.218947</td>\n",
       "      <td>0.229730</td>\n",
       "      <td>0.208238</td>\n",
       "      <td>0.733071</td>\n",
       "    </tr>\n",
       "    <tr>\n",
       "      <th>min</th>\n",
       "      <td>1.000000</td>\n",
       "      <td>-0.082263</td>\n",
       "      <td>-0.031397</td>\n",
       "      <td>0.020967</td>\n",
       "      <td>0.152761</td>\n",
       "      <td>0.276377</td>\n",
       "      <td>0.066166</td>\n",
       "      <td>-0.097666</td>\n",
       "      <td>0.217260</td>\n",
       "      <td>-0.240604</td>\n",
       "      <td>-0.085046</td>\n",
       "      <td>0.083277</td>\n",
       "      <td>0.088635</td>\n",
       "      <td>0.029950</td>\n",
       "      <td>0.166367</td>\n",
       "      <td>0.000000</td>\n",
       "    </tr>\n",
       "    <tr>\n",
       "      <th>25%</th>\n",
       "      <td>124656.500000</td>\n",
       "      <td>0.343078</td>\n",
       "      <td>0.319170</td>\n",
       "      <td>0.344096</td>\n",
       "      <td>0.294935</td>\n",
       "      <td>0.284108</td>\n",
       "      <td>0.356163</td>\n",
       "      <td>0.346600</td>\n",
       "      <td>0.341486</td>\n",
       "      <td>0.330832</td>\n",
       "      <td>0.375465</td>\n",
       "      <td>0.300474</td>\n",
       "      <td>0.310166</td>\n",
       "      <td>0.350472</td>\n",
       "      <td>0.308673</td>\n",
       "      <td>7.329367</td>\n",
       "    </tr>\n",
       "    <tr>\n",
       "      <th>50%</th>\n",
       "      <td>249738.500000</td>\n",
       "      <td>0.484005</td>\n",
       "      <td>0.553209</td>\n",
       "      <td>0.551471</td>\n",
       "      <td>0.482880</td>\n",
       "      <td>0.451733</td>\n",
       "      <td>0.470988</td>\n",
       "      <td>0.466825</td>\n",
       "      <td>0.483460</td>\n",
       "      <td>0.416843</td>\n",
       "      <td>0.458877</td>\n",
       "      <td>0.441916</td>\n",
       "      <td>0.486599</td>\n",
       "      <td>0.487707</td>\n",
       "      <td>0.431845</td>\n",
       "      <td>7.940571</td>\n",
       "    </tr>\n",
       "    <tr>\n",
       "      <th>75%</th>\n",
       "      <td>374836.250000</td>\n",
       "      <td>0.643789</td>\n",
       "      <td>0.731263</td>\n",
       "      <td>0.648315</td>\n",
       "      <td>0.748705</td>\n",
       "      <td>0.670660</td>\n",
       "      <td>0.694043</td>\n",
       "      <td>0.581292</td>\n",
       "      <td>0.685250</td>\n",
       "      <td>0.575041</td>\n",
       "      <td>0.700292</td>\n",
       "      <td>0.679128</td>\n",
       "      <td>0.694453</td>\n",
       "      <td>0.768479</td>\n",
       "      <td>0.712653</td>\n",
       "      <td>8.470084</td>\n",
       "    </tr>\n",
       "    <tr>\n",
       "      <th>max</th>\n",
       "      <td>499999.000000</td>\n",
       "      <td>1.016227</td>\n",
       "      <td>0.859697</td>\n",
       "      <td>1.006955</td>\n",
       "      <td>1.010402</td>\n",
       "      <td>1.034261</td>\n",
       "      <td>1.043858</td>\n",
       "      <td>1.066167</td>\n",
       "      <td>1.024427</td>\n",
       "      <td>1.004114</td>\n",
       "      <td>1.199951</td>\n",
       "      <td>1.022620</td>\n",
       "      <td>1.049025</td>\n",
       "      <td>0.977845</td>\n",
       "      <td>0.868506</td>\n",
       "      <td>10.267569</td>\n",
       "    </tr>\n",
       "  </tbody>\n",
       "</table>\n",
       "</div>"
      ],
      "text/plain": [
       "                  id          cont1          cont2          cont3  \\\n",
       "count  300000.000000  300000.000000  300000.000000  300000.000000   \n",
       "mean   249825.145857       0.506873       0.497898       0.521557   \n",
       "std    144476.732562       0.203976       0.228159       0.200770   \n",
       "min         1.000000      -0.082263      -0.031397       0.020967   \n",
       "25%    124656.500000       0.343078       0.319170       0.344096   \n",
       "50%    249738.500000       0.484005       0.553209       0.551471   \n",
       "75%    374836.250000       0.643789       0.731263       0.648315   \n",
       "max    499999.000000       1.016227       0.859697       1.006955   \n",
       "\n",
       "               cont4          cont5          cont6          cont7  \\\n",
       "count  300000.000000  300000.000000  300000.000000  300000.000000   \n",
       "mean        0.515683       0.502022       0.526515       0.487890   \n",
       "std         0.233035       0.220701       0.217909       0.181096   \n",
       "min         0.152761       0.276377       0.066166      -0.097666   \n",
       "25%         0.294935       0.284108       0.356163       0.346600   \n",
       "50%         0.482880       0.451733       0.470988       0.466825   \n",
       "75%         0.748705       0.670660       0.694043       0.581292   \n",
       "max         1.010402       1.034261       1.043858       1.066167   \n",
       "\n",
       "               cont8          cont9         cont10         cont11  \\\n",
       "count  300000.000000  300000.000000  300000.000000  300000.000000   \n",
       "mean        0.525163       0.459857       0.520532       0.483926   \n",
       "std         0.216221       0.196685       0.201854       0.220082   \n",
       "min         0.217260      -0.240604      -0.085046       0.083277   \n",
       "25%         0.341486       0.330832       0.375465       0.300474   \n",
       "50%         0.483460       0.416843       0.458877       0.441916   \n",
       "75%         0.685250       0.575041       0.700292       0.679128   \n",
       "max         1.024427       1.004114       1.199951       1.022620   \n",
       "\n",
       "              cont12         cont13         cont14         target  \n",
       "count  300000.000000  300000.000000  300000.000000  300000.000000  \n",
       "mean        0.506877       0.553442       0.503713       7.905661  \n",
       "std         0.218947       0.229730       0.208238       0.733071  \n",
       "min         0.088635       0.029950       0.166367       0.000000  \n",
       "25%         0.310166       0.350472       0.308673       7.329367  \n",
       "50%         0.486599       0.487707       0.431845       7.940571  \n",
       "75%         0.694453       0.768479       0.712653       8.470084  \n",
       "max         1.049025       0.977845       0.868506      10.267569  "
      ]
     },
     "execution_count": 4,
     "metadata": {},
     "output_type": "execute_result"
    }
   ],
   "source": [
    "df_train.describe()"
   ]
  },
  {
   "cell_type": "code",
   "execution_count": 5,
   "id": "8f1b483e",
   "metadata": {},
   "outputs": [
    {
     "data": {
      "text/plain": [
       "((240000, 15), (60000, 15))"
      ]
     },
     "execution_count": 5,
     "metadata": {},
     "output_type": "execute_result"
    }
   ],
   "source": [
    "X_train, X_test, y_train, y_test = train_test_split(\n",
    "    df_train.drop(labels=['target'], axis=1),  # drop the target\n",
    "    df_train['target'],  # just the target\n",
    "    test_size=0.2,\n",
    "    random_state=0)\n",
    "\n",
    "X_train.shape, X_test.shape"
   ]
  },
  {
   "cell_type": "code",
   "execution_count": 6,
   "id": "101fb0dc",
   "metadata": {},
   "outputs": [
    {
     "name": "stdout",
     "output_type": "stream",
     "text": [
      "RMSE: 0.72554\n"
     ]
    }
   ],
   "source": [
    "### Baseline model\n",
    "lr = LinearRegression()\n",
    "lr.fit(X_train, y_train)\n",
    "y_predict = lr.predict(X_test)\n",
    "rmse = mean_squared_error(y_test, y_predict, squared=False)\n",
    "print(f'RMSE: {rmse:.5f}')"
   ]
  },
  {
   "cell_type": "code",
   "execution_count": 7,
   "id": "85f55d9d",
   "metadata": {},
   "outputs": [],
   "source": [
    "#### The next part is an example of features selection. "
   ]
  },
  {
   "cell_type": "markdown",
   "id": "d243bfb1",
   "metadata": {},
   "source": [
    "#### 1. VarianceThreshold from Scikit-learn"
   ]
  },
  {
   "cell_type": "code",
   "execution_count": 8,
   "id": "c6952548",
   "metadata": {},
   "outputs": [
    {
     "data": {
      "text/plain": [
       "0"
      ]
     },
     "execution_count": 8,
     "metadata": {},
     "output_type": "execute_result"
    }
   ],
   "source": [
    "sel = VarianceThreshold(threshold=0.0)\n",
    "sel.fit(X_train)  # fit finds the features with zero variance\n",
    "sel.get_support()\n",
    "constant = X_train.columns[~sel.get_support()]\n",
    "len(constant)"
   ]
  },
  {
   "cell_type": "code",
   "execution_count": 9,
   "id": "b0e08702",
   "metadata": {},
   "outputs": [
    {
     "data": {
      "text/plain": [
       "0"
      ]
     },
     "execution_count": 9,
     "metadata": {},
     "output_type": "execute_result"
    }
   ],
   "source": [
    "### only works with numerical\n",
    "const_f = [feat for feat in X_train.columns if X_train[feat].std() == 0]\n",
    "len(const_f)"
   ]
  },
  {
   "cell_type": "code",
   "execution_count": 10,
   "id": "d59db558",
   "metadata": {},
   "outputs": [],
   "source": [
    "### works also with categorical variables"
   ]
  },
  {
   "cell_type": "code",
   "execution_count": 11,
   "id": "6cfcfe3f",
   "metadata": {},
   "outputs": [
    {
     "data": {
      "text/plain": [
       "0"
      ]
     },
     "execution_count": 11,
     "metadata": {},
     "output_type": "execute_result"
    }
   ],
   "source": [
    "constant_features = [feat for feat in X_train.columns if X_train[feat].nunique() == 1]\n",
    "len(constant_features)"
   ]
  },
  {
   "cell_type": "markdown",
   "id": "15c65b6e",
   "metadata": {},
   "source": [
    "#### 2. Quasi-constant features"
   ]
  },
  {
   "cell_type": "code",
   "execution_count": 12,
   "id": "3e0cc6fb",
   "metadata": {},
   "outputs": [
    {
     "data": {
      "text/plain": [
       "0"
      ]
     },
     "execution_count": 12,
     "metadata": {},
     "output_type": "execute_result"
    }
   ],
   "source": [
    "sel = VarianceThreshold(threshold=0.02)  \n",
    "sel.fit(X_train)  # fit finds the features with low variance\n",
    "quasi_constant = X_train.columns[~sel.get_support()]\n",
    "\n",
    "len(quasi_constant)"
   ]
  },
  {
   "cell_type": "markdown",
   "id": "80f2b20c",
   "metadata": {},
   "source": [
    "#### 3. Duplicated features"
   ]
  },
  {
   "cell_type": "markdown",
   "id": "fd7ef2df",
   "metadata": {},
   "source": [
    "We have a dataset with numerical features, so if two columns are equal the sum also will be identical. Let's check all sums, it'll be faster than comparing each element. "
   ]
  },
  {
   "cell_type": "code",
   "execution_count": 13,
   "id": "ad974885",
   "metadata": {},
   "outputs": [],
   "source": [
    "dic_sum = df_train.sum().to_dict()\n",
    "k_v_exchanged = {}\n",
    "for key, val in dic_sum.items():\n",
    "    if val not in k_v_exchanged:\n",
    "        k_v_exchanged[val] = [key]\n",
    "    else:\n",
    "        k_v_exchanged[val].append(key)"
   ]
  },
  {
   "cell_type": "code",
   "execution_count": 14,
   "id": "7d1e65e5",
   "metadata": {},
   "outputs": [
    {
     "data": {
      "text/plain": [
       "1"
      ]
     },
     "execution_count": 14,
     "metadata": {},
     "output_type": "execute_result"
    }
   ],
   "source": [
    "max([len(v) for v in k_v_exchanged.values()])"
   ]
  },
  {
   "cell_type": "markdown",
   "id": "209db462",
   "metadata": {},
   "source": [
    "#### 4. Correlation"
   ]
  },
  {
   "cell_type": "code",
   "execution_count": 15,
   "id": "865b5318",
   "metadata": {},
   "outputs": [
    {
     "data": {
      "text/plain": [
       "<AxesSubplot:>"
      ]
     },
     "execution_count": 15,
     "metadata": {},
     "output_type": "execute_result"
    },
    {
     "data": {
      "image/png": "[encoded data removed]",
      "text/plain": [
       "<Figure size 1000x600 with 2 Axes>"
      ]
     },
     "metadata": {},
     "output_type": "display_data"
    }
   ],
   "source": [
    "plt.figure(figsize=(10,6))\n",
    "sns.heatmap(df_train.corr(),annot=True, annot_kws={\"size\":8})\n",
    "#sns.set(font_scale = .7)"
   ]
  },
  {
   "cell_type": "code",
   "execution_count": 16,
   "id": "b62c7e54",
   "metadata": {},
   "outputs": [],
   "source": [
    "# find and remove correlated features\n",
    "def correlation(dataset, threshold):\n",
    "    col_corr = set()  # Set of all the names of correlated columns    \n",
    "    corr_matrix = dataset.corr()    \n",
    "    for i in range(len(corr_matrix.columns)):    \n",
    "        for j in range(i):\n",
    "            if abs(corr_matrix.iloc[i, j]) > threshold: # we are interested in absolute coeff value\n",
    "                colname = corr_matrix.columns[i]  # getting the name of column\n",
    "                col_corr.add(colname)\n",
    "    return col_corr"
   ]
  },
  {
   "cell_type": "code",
   "execution_count": 17,
   "id": "abe62c9f",
   "metadata": {},
   "outputs": [
    {
     "name": "stdout",
     "output_type": "stream",
     "text": [
      "correlated features:  4\n"
     ]
    }
   ],
   "source": [
    "corr_features = correlation(X_train, 0.75)\n",
    "print('correlated features: ', len(set(corr_features)) )"
   ]
  },
  {
   "cell_type": "code",
   "execution_count": 18,
   "id": "93686a4d",
   "metadata": {},
   "outputs": [
    {
     "data": {
      "text/plain": [
       "{'cont10', 'cont12', 'cont13', 'cont9'}"
      ]
     },
     "execution_count": 18,
     "metadata": {},
     "output_type": "execute_result"
    }
   ],
   "source": [
    "corr_features"
   ]
  },
  {
   "cell_type": "code",
   "execution_count": 19,
   "id": "2348153a",
   "metadata": {},
   "outputs": [
    {
     "data": {
      "text/plain": [
       "((240000, 11), (60000, 11))"
      ]
     },
     "execution_count": 19,
     "metadata": {},
     "output_type": "execute_result"
    }
   ],
   "source": [
    "X_train.drop(labels=corr_features, axis=1, inplace=True)\n",
    "X_test.drop(labels=corr_features, axis=1, inplace=True)\n",
    "\n",
    "X_train.shape, X_test.shape"
   ]
  },
  {
   "cell_type": "code",
   "execution_count": 20,
   "id": "18c97c01",
   "metadata": {},
   "outputs": [
    {
     "name": "stdout",
     "output_type": "stream",
     "text": [
      "RMSE: 0.72721\n"
     ]
    }
   ],
   "source": [
    "### model\n",
    "lr.fit(X_train, y_train)\n",
    "y_predict = lr.predict(X_test)\n",
    "rmse = mean_squared_error(y_test, y_predict, squared=False)\n",
    "print(f'RMSE: {rmse:.5f}')\n",
    "### So, with selected features RMSE a little bit increase"
   ]
  },
  {
   "cell_type": "markdown",
   "id": "cbab90ed",
   "metadata": {},
   "source": [
    "#### 5. Mutual information"
   ]
  },
  {
   "cell_type": "markdown",
   "id": "666985c5",
   "metadata": {},
   "source": [
    "The mutual information measures the reduction in uncertainty in variable A when variable B is known."
   ]
  },
  {
   "cell_type": "code",
   "execution_count": 21,
   "id": "7e146d68",
   "metadata": {},
   "outputs": [],
   "source": [
    "from sklearn.feature_selection import mutual_info_regression"
   ]
  },
  {
   "cell_type": "code",
   "execution_count": 22,
   "id": "360e8c65",
   "metadata": {},
   "outputs": [
    {
     "data": {
      "text/plain": [
       "Text(0, 0.5, 'Mutual Information')"
      ]
     },
     "execution_count": 22,
     "metadata": {},
     "output_type": "execute_result"
    },
    {
     "data": {
      "image/png": "[encoded data removed]",
      "text/plain": [
       "<Figure size 2000x600 with 1 Axes>"
      ]
     },
     "metadata": {},
     "output_type": "display_data"
    }
   ],
   "source": [
    "# determine the mutual information\n",
    "mi = mutual_info_regression(X_train, y_train)\n",
    "\n",
    "# and make a bar  plot\n",
    "mi = pd.Series(mi)\n",
    "mi.index = X_train.columns\n",
    "mi.sort_values(ascending=False).plot.bar(figsize=(20,6))\n",
    "plt.ylabel('Mutual Information')"
   ]
  },
  {
   "cell_type": "markdown",
   "id": "fce4cee0",
   "metadata": {},
   "source": [
    "We can see, that the Id column is useless for prediction and there is no \"dominant\" feature in the data set."
   ]
  },
  {
   "cell_type": "code",
   "execution_count": 23,
   "id": "b5c00a0f",
   "metadata": {},
   "outputs": [],
   "source": [
    "mi_dict = dict(sorted(mi.to_dict().items(), key=lambda item: item[1]))"
   ]
  },
  {
   "cell_type": "code",
   "execution_count": 24,
   "id": "fe8c10ed",
   "metadata": {},
   "outputs": [],
   "source": [
    "unmutal_cols = list(mi_dict.keys())[0]"
   ]
  },
  {
   "cell_type": "code",
   "execution_count": 25,
   "id": "7b149e85",
   "metadata": {},
   "outputs": [
    {
     "data": {
      "text/plain": [
       "((240000, 10), (60000, 10))"
      ]
     },
     "execution_count": 25,
     "metadata": {},
     "output_type": "execute_result"
    }
   ],
   "source": [
    "X_train.drop(labels=unmutal_cols, axis=1, inplace=True)\n",
    "X_test.drop(labels=unmutal_cols, axis=1, inplace=True)\n",
    "\n",
    "X_train.shape, X_test.shape"
   ]
  },
  {
   "cell_type": "code",
   "execution_count": 26,
   "id": "d3ef4324",
   "metadata": {},
   "outputs": [
    {
     "name": "stdout",
     "output_type": "stream",
     "text": [
      "RMSE: 0.72720\n"
     ]
    }
   ],
   "source": [
    "### model\n",
    "lr.fit(X_train, y_train)\n",
    "y_predict = lr.predict(X_test)\n",
    "rmse = mean_squared_error(y_test, y_predict, squared=False)\n",
    "print(f'RMSE: {rmse:.5f}')\n",
    "### So, without the 'Id' feature RMSE doesn't change."
   ]
  },
  {
   "cell_type": "markdown",
   "id": "f2a93cd7",
   "metadata": {},
   "source": [
    "#### 6. ANOVA"
   ]
  },
  {
   "cell_type": "markdown",
   "id": "0f81265f",
   "metadata": {},
   "source": [
    "Univariate feature selection works by selecting the best features based on univariate statistical tests (ANOVA). The methods estimate the degree of linear dependency between two random variables. In this case, any of the predictor variables and the target."
   ]
  },
  {
   "cell_type": "code",
   "execution_count": 27,
   "id": "829dc464",
   "metadata": {},
   "outputs": [],
   "source": [
    "## ANOVA\n",
    "from sklearn.feature_selection import f_regression"
   ]
  },
  {
   "cell_type": "code",
   "execution_count": 28,
   "id": "9d2bfdca",
   "metadata": {},
   "outputs": [
    {
     "data": {
      "text/plain": [
       "<AxesSubplot:>"
      ]
     },
     "execution_count": 28,
     "metadata": {},
     "output_type": "execute_result"
    },
    {
     "data": {
      "image/png": "[encoded data removed]",
      "text/plain": [
       "<Figure size 2000x600 with 1 Axes>"
      ]
     },
     "metadata": {},
     "output_type": "display_data"
    }
   ],
   "source": [
    "# univariate anova\n",
    "univariate = f_regression(X_train.fillna(0), y_train)\n",
    "\n",
    "# plot values\n",
    "univariate = pd.Series(univariate[1])\n",
    "univariate.index = X_train.columns\n",
    "univariate.sort_values(ascending=False).plot.bar(figsize=(20,6))"
   ]
  },
  {
   "cell_type": "markdown",
   "id": "2fd8c9fa",
   "metadata": {},
   "source": [
    "As we can see the \"count 5\" feature has the highest linear dependency with the target. Let's drop it"
   ]
  },
  {
   "cell_type": "code",
   "execution_count": 29,
   "id": "68f8b360",
   "metadata": {},
   "outputs": [],
   "source": [
    "univariate_dict = dict(sorted(univariate.to_dict().items(), key=lambda item: item[1]))"
   ]
  },
  {
   "cell_type": "code",
   "execution_count": 30,
   "id": "1065f9eb",
   "metadata": {},
   "outputs": [],
   "source": [
    "univariate_cols = list(univariate_dict.keys())[-1:]"
   ]
  },
  {
   "cell_type": "code",
   "execution_count": 31,
   "id": "607d572b",
   "metadata": {},
   "outputs": [
    {
     "data": {
      "text/plain": [
       "['cont5']"
      ]
     },
     "execution_count": 31,
     "metadata": {},
     "output_type": "execute_result"
    }
   ],
   "source": [
    "univariate_cols"
   ]
  },
  {
   "cell_type": "code",
   "execution_count": 32,
   "id": "fe2721c4",
   "metadata": {},
   "outputs": [
    {
     "data": {
      "text/plain": [
       "((240000, 9), (60000, 9))"
      ]
     },
     "execution_count": 32,
     "metadata": {},
     "output_type": "execute_result"
    }
   ],
   "source": [
    "X_train.drop(labels=univariate_cols, axis=1, inplace=True)\n",
    "X_test.drop(labels=univariate_cols, axis=1, inplace=True)\n",
    "\n",
    "X_train.shape, X_test.shape"
   ]
  },
  {
   "cell_type": "code",
   "execution_count": 33,
   "id": "9e604058",
   "metadata": {},
   "outputs": [
    {
     "name": "stdout",
     "output_type": "stream",
     "text": [
      "RMSE: 0.72721\n"
     ]
    }
   ],
   "source": [
    "### model\n",
    "lr.fit(X_train, y_train)\n",
    "y_predict = lr.predict(X_test)\n",
    "rmse = mean_squared_error(y_test, y_predict, squared=False)\n",
    "print(f'RMSE: {rmse:.5f}')\n",
    "#### not a big success, but I'll save this part as an example"
   ]
  },
  {
   "cell_type": "markdown",
   "id": "4568ae6b",
   "metadata": {},
   "source": [
    "#### 7. Wrapper"
   ]
  },
  {
   "cell_type": "markdown",
   "id": "24d519ec",
   "metadata": {},
   "source": [
    "##### 7.1 Exhaustive Feature Selection\n",
    "Exhaustive Feature Selection finds the best subset of features of all possible feature subsets, according to a determined performance metric for a certain machine learning algorithm.\n",
    "Using min_features and max_features parameters this algorithm will evaluate all feature combinations. So, for example, if we want to choose a subset with the count of features between 1 to 4 the algorithm will evaluate 15 combinations:\n",
    " - all possible combinations of 1 feature\n",
    " - all possible combinations of 2 features\n",
    " - all possible combinations of 3 features\n",
    " - all the 4 features\n"
   ]
  },
  {
   "cell_type": "code",
   "execution_count": 34,
   "id": "e274e8f5",
   "metadata": {},
   "outputs": [],
   "source": [
    "import mlxtend\n",
    "from mlxtend.feature_selection import ExhaustiveFeatureSelector as EFS"
   ]
  },
  {
   "cell_type": "code",
   "execution_count": 35,
   "id": "f350f771",
   "metadata": {},
   "outputs": [
    {
     "name": "stderr",
     "output_type": "stream",
     "text": [
      "Features: 129/129"
     ]
    }
   ],
   "source": [
    "# exhaustive search\n",
    "efs = EFS(LinearRegression(), min_features=1, max_features=3, scoring='neg_mean_squared_error', print_progress=True,)\n",
    "efs = efs.fit(np.array(X_train), y_train)"
   ]
  },
  {
   "cell_type": "code",
   "execution_count": 36,
   "id": "88e0070c",
   "metadata": {},
   "outputs": [
    {
     "data": {
      "text/plain": [
       "(0, 1, 5)"
      ]
     },
     "execution_count": 36,
     "metadata": {},
     "output_type": "execute_result"
    }
   ],
   "source": [
    "efs.best_idx_"
   ]
  },
  {
   "cell_type": "code",
   "execution_count": 37,
   "id": "fa08961f",
   "metadata": {},
   "outputs": [
    {
     "data": {
      "text/plain": [
       "Index(['cont1', 'cont2', 'cont7'], dtype='object')"
      ]
     },
     "execution_count": 37,
     "metadata": {},
     "output_type": "execute_result"
    }
   ],
   "source": [
    "selected_feat = X_train.columns[list(efs.best_idx_)]\n",
    "selected_feat"
   ]
  },
  {
   "cell_type": "code",
   "execution_count": 38,
   "id": "4f207df0",
   "metadata": {},
   "outputs": [
    {
     "name": "stdout",
     "output_type": "stream",
     "text": [
      "RMSE: 0.72839\n"
     ]
    }
   ],
   "source": [
    "lr.fit(X_train[selected_feat], y_train)\n",
    "y_predict = lr.predict(X_test[selected_feat])\n",
    "rmse = mean_squared_error(y_test, y_predict, squared=False)\n",
    "print(f'RMSE: {rmse:.5f}')"
   ]
  },
  {
   "cell_type": "markdown",
   "id": "4ef00308",
   "metadata": {},
   "source": [
    "#### 7.2 Step backward feature selection\n",
    "Step Backward Feature Selection starts by fitting a model using all features in the data set and determining its performance.\n",
    "\n",
    "Then, it trains models on all possible combinations of all features -1, and removes the feature that returns the model with the lowest performance.\n",
    "The algorithm stops on a criteria determined by the user. This criteria could be that the model performance does not decrease beyond a certain threshold, or alternatively, as in the mlxtend implementation, when we reach a certain number of selected features."
   ]
  },
  {
   "cell_type": "code",
   "execution_count": 39,
   "id": "35b7628a",
   "metadata": {},
   "outputs": [],
   "source": [
    "# step backward feature selection\n",
    "from mlxtend.feature_selection import SequentialFeatureSelector as SFS"
   ]
  },
  {
   "cell_type": "code",
   "execution_count": 40,
   "id": "41c78931",
   "metadata": {},
   "outputs": [
    {
     "name": "stderr",
     "output_type": "stream",
     "text": [
      "[Parallel(n_jobs=1)]: Using backend SequentialBackend with 1 concurrent workers.\n",
      "[Parallel(n_jobs=1)]: Done   1 out of   1 | elapsed:    0.1s remaining:    0.0s\n",
      "[Parallel(n_jobs=1)]: Done   9 out of   9 | elapsed:    2.2s finished\n",
      "\n",
      "[2022-10-03 14:03:08] Features: 8/3 -- score: -0.5302260192440877[Parallel(n_jobs=1)]: Using backend SequentialBackend with 1 concurrent workers.\n",
      "[Parallel(n_jobs=1)]: Done   1 out of   1 | elapsed:    0.2s remaining:    0.0s\n",
      "[Parallel(n_jobs=1)]: Done   8 out of   8 | elapsed:    1.7s finished\n",
      "\n",
      "[2022-10-03 14:03:10] Features: 7/3 -- score: -0.5302730688862711[Parallel(n_jobs=1)]: Using backend SequentialBackend with 1 concurrent workers.\n",
      "[Parallel(n_jobs=1)]: Done   1 out of   1 | elapsed:    0.1s remaining:    0.0s\n",
      "[Parallel(n_jobs=1)]: Done   7 out of   7 | elapsed:    1.3s finished\n",
      "\n",
      "[2022-10-03 14:03:11] Features: 6/3 -- score: -0.5304792668658923[Parallel(n_jobs=1)]: Using backend SequentialBackend with 1 concurrent workers.\n",
      "[Parallel(n_jobs=1)]: Done   1 out of   1 | elapsed:    0.1s remaining:    0.0s\n",
      "[Parallel(n_jobs=1)]: Done   6 out of   6 | elapsed:    0.9s finished\n",
      "\n",
      "[2022-10-03 14:03:12] Features: 5/3 -- score: -0.5307808989113784[Parallel(n_jobs=1)]: Using backend SequentialBackend with 1 concurrent workers.\n",
      "[Parallel(n_jobs=1)]: Done   1 out of   1 | elapsed:    0.0s remaining:    0.0s\n",
      "[Parallel(n_jobs=1)]: Done   5 out of   5 | elapsed:    0.6s finished\n",
      "\n",
      "[2022-10-03 14:03:13] Features: 4/3 -- score: -0.5312167891340864[Parallel(n_jobs=1)]: Using backend SequentialBackend with 1 concurrent workers.\n",
      "[Parallel(n_jobs=1)]: Done   1 out of   1 | elapsed:    0.0s remaining:    0.0s\n",
      "[Parallel(n_jobs=1)]: Done   4 out of   4 | elapsed:    0.4s finished\n",
      "\n",
      "[2022-10-03 14:03:14] Features: 3/3 -- score: -0.5318715220385309"
     ]
    }
   ],
   "source": [
    "sfs = SFS(LinearRegression(),\n",
    "          k_features=3, # the lower the features we want, the longer this will take\n",
    "          forward=False,\n",
    "          verbose=2,\n",
    "          scoring='neg_mean_squared_error')\n",
    "\n",
    "sfs = sfs.fit(np.array(X_train), y_train)"
   ]
  },
  {
   "cell_type": "code",
   "execution_count": 41,
   "id": "7729af44",
   "metadata": {},
   "outputs": [
    {
     "data": {
      "text/plain": [
       "(0, 1, 5)"
      ]
     },
     "execution_count": 41,
     "metadata": {},
     "output_type": "execute_result"
    }
   ],
   "source": [
    "sfs.k_feature_idx_\n",
    "## The same result as before, but faster :) "
   ]
  },
  {
   "cell_type": "markdown",
   "id": "9c23afa6",
   "metadata": {},
   "source": [
    "#### 8. Regression models\n",
    "I'm going to fit different regression models to find the best one. For hyperparameters tuning is used GridSearchCV."
   ]
  },
  {
   "cell_type": "code",
   "execution_count": 42,
   "id": "c9274ff9",
   "metadata": {},
   "outputs": [],
   "source": [
    "from sklearn.linear_model import LogisticRegression\n",
    "from sklearn.linear_model import Lasso\n",
    "from sklearn.linear_model import ElasticNet\n",
    "from sklearn.linear_model import Ridge\n",
    "from sklearn.model_selection import GridSearchCV\n",
    "\n",
    "from sklearn.compose import TransformedTargetRegressor"
   ]
  },
  {
   "cell_type": "code",
   "execution_count": 43,
   "id": "cb4f5827",
   "metadata": {},
   "outputs": [
    {
     "data": {
      "text/plain": [
       "((240000, 15), (60000, 15))"
      ]
     },
     "execution_count": 43,
     "metadata": {},
     "output_type": "execute_result"
    }
   ],
   "source": [
    "X_train, X_test, y_train, y_test = train_test_split(\n",
    "    df_train.drop(labels=['target'], axis=1),  # drop the target\n",
    "    df_train['target'],  # just the target\n",
    "    test_size=0.2,\n",
    "    random_state=0)\n",
    "\n",
    "X_train.shape, X_test.shape"
   ]
  },
  {
   "cell_type": "code",
   "execution_count": 44,
   "id": "5f0957cf",
   "metadata": {},
   "outputs": [],
   "source": [
    "X_train.drop('id', axis=1, inplace=True)\n",
    "X_test.drop('id', axis=1, inplace=True)"
   ]
  },
  {
   "cell_type": "code",
   "execution_count": 45,
   "id": "26834dd6",
   "metadata": {},
   "outputs": [],
   "source": [
    "### 4 different models\n",
    "models=[\n",
    "        LinearRegression(),\n",
    "        Lasso(),\n",
    "        ElasticNet(),\n",
    "        Ridge(),\n",
    "       ]"
   ]
  },
  {
   "cell_type": "code",
   "execution_count": 46,
   "id": "3e69815f",
   "metadata": {},
   "outputs": [],
   "source": [
    "lasso_params = {'alpha':[0.01, 0.1, 0.5, 1, 5, 10]}\n",
    "\n",
    "ridge_params = {'alpha': [1, 5, 10, 15] , \n",
    "                \"fit_intercept\": [True, False], \n",
    "                \"solver\": ['svd', 'sag']\n",
    "               }\n",
    "\n",
    "elastic_params = {\"max_iter\": [10000],\n",
    "                  \"alpha\": [0.01, 0.1, 1, 10, 100],\n",
    "                  \"l1_ratio\": np.arange(0.1, 0.9, 0.1)\n",
    "                 }\n",
    "\n",
    "models = {'OLS': GridSearchCV(LinearRegression(),param_grid={}, scoring='neg_mean_squared_error', cv=5),\n",
    "           'Lasso': GridSearchCV(Lasso(), param_grid=lasso_params, scoring='neg_mean_squared_error', cv=5),\n",
    "           'Ridge': GridSearchCV(Ridge(), param_grid=ridge_params, scoring='neg_mean_squared_error', cv=5),\n",
    "           'Elastic': GridSearchCV(ElasticNet(), param_grid=elastic_params, scoring='neg_mean_squared_error', cv=5)\n",
    "          }"
   ]
  },
  {
   "cell_type": "code",
   "execution_count": 47,
   "id": "213420ef",
   "metadata": {},
   "outputs": [],
   "source": [
    "metrics = pd.DataFrame(columns=['model' , 'best_params', 'best score', 'test rmse',])"
   ]
  },
  {
   "cell_type": "code",
   "execution_count": 48,
   "id": "cbdcd9b2",
   "metadata": {},
   "outputs": [],
   "source": [
    "def tune(models, X_train, X_test, y_train, y_test, flag_selected=''):\n",
    "    global metrics\n",
    "    for i in models:\n",
    "        clf = models[i]\n",
    "        clf.fit(X_train, y_train)\n",
    "        y_pred = clf.best_estimator_.predict(X_test)\n",
    "        rmse = mean_squared_error(y_test, y_pred, squared=False)\n",
    "        print(i)\n",
    "        print(f'RMSE: {rmse:.5f}')  \n",
    "        metrics.loc[len(metrics.index)] = [i + ' ' + flag_selected,\n",
    "                                           clf.best_params_,\n",
    "                                           clf.best_score_,\n",
    "                                           rmse\n",
    "                                          ]"
   ]
  },
  {
   "cell_type": "code",
   "execution_count": 49,
   "id": "a8b0f44e",
   "metadata": {},
   "outputs": [],
   "source": [
    "### selected columns from the part below\n",
    "selected_cols = ['cont1', 'cont2', 'cont7']"
   ]
  },
  {
   "cell_type": "code",
   "execution_count": 50,
   "id": "28423f3f",
   "metadata": {},
   "outputs": [
    {
     "name": "stdout",
     "output_type": "stream",
     "text": [
      "OLS\n",
      "RMSE: 0.72552\n",
      "Lasso\n",
      "RMSE: 0.73203\n",
      "Ridge\n",
      "RMSE: 0.72552\n",
      "Elastic\n",
      "RMSE: 0.72678\n",
      "OLS\n",
      "RMSE: 0.72839\n",
      "Lasso\n",
      "RMSE: 0.73203\n",
      "Ridge\n",
      "RMSE: 0.72839\n",
      "Elastic\n",
      "RMSE: 0.72883\n"
     ]
    }
   ],
   "source": [
    "tune(models, X_train, X_test, y_train, y_test)\n",
    "### Also let's check a data set with selected solumns\n",
    "tune(models, X_train[selected_cols], X_test[selected_cols], y_train, y_test, 'selected')\n"
   ]
  },
  {
   "cell_type": "code",
   "execution_count": 51,
   "id": "221ae5a6",
   "metadata": {},
   "outputs": [
    {
     "data": {
      "text/html": [
       "<div>\n",
       "<style scoped>\n",
       "    .dataframe tbody tr th:only-of-type {\n",
       "        vertical-align: middle;\n",
       "    }\n",
       "\n",
       "    .dataframe tbody tr th {\n",
       "        vertical-align: top;\n",
       "    }\n",
       "\n",
       "    .dataframe thead th {\n",
       "        text-align: right;\n",
       "    }\n",
       "</style>\n",
       "<table border=\"1\" class=\"dataframe\">\n",
       "  <thead>\n",
       "    <tr style=\"text-align: right;\">\n",
       "      <th></th>\n",
       "      <th>model</th>\n",
       "      <th>best_params</th>\n",
       "      <th>best score</th>\n",
       "      <th>test rmse</th>\n",
       "    </tr>\n",
       "  </thead>\n",
       "  <tbody>\n",
       "    <tr>\n",
       "      <th>0</th>\n",
       "      <td>OLS</td>\n",
       "      <td>{}</td>\n",
       "      <td>-0.527701</td>\n",
       "      <td>0.725522</td>\n",
       "    </tr>\n",
       "    <tr>\n",
       "      <th>2</th>\n",
       "      <td>Ridge</td>\n",
       "      <td>{'alpha': 10, 'fit_intercept': True, 'solver':...</td>\n",
       "      <td>-0.527701</td>\n",
       "      <td>0.725523</td>\n",
       "    </tr>\n",
       "    <tr>\n",
       "      <th>3</th>\n",
       "      <td>Elastic</td>\n",
       "      <td>{'alpha': 0.01, 'l1_ratio': 0.1, 'max_iter': 1...</td>\n",
       "      <td>-0.529448</td>\n",
       "      <td>0.726784</td>\n",
       "    </tr>\n",
       "    <tr>\n",
       "      <th>4</th>\n",
       "      <td>OLS selected</td>\n",
       "      <td>{}</td>\n",
       "      <td>-0.531872</td>\n",
       "      <td>0.728391</td>\n",
       "    </tr>\n",
       "    <tr>\n",
       "      <th>6</th>\n",
       "      <td>Ridge selected</td>\n",
       "      <td>{'alpha': 10, 'fit_intercept': True, 'solver':...</td>\n",
       "      <td>-0.531871</td>\n",
       "      <td>0.728391</td>\n",
       "    </tr>\n",
       "    <tr>\n",
       "      <th>7</th>\n",
       "      <td>Elastic selected</td>\n",
       "      <td>{'alpha': 0.01, 'l1_ratio': 0.1, 'max_iter': 1...</td>\n",
       "      <td>-0.532423</td>\n",
       "      <td>0.728832</td>\n",
       "    </tr>\n",
       "    <tr>\n",
       "      <th>1</th>\n",
       "      <td>Lasso</td>\n",
       "      <td>{'alpha': 0.01}</td>\n",
       "      <td>-0.537070</td>\n",
       "      <td>0.732028</td>\n",
       "    </tr>\n",
       "    <tr>\n",
       "      <th>5</th>\n",
       "      <td>Lasso selected</td>\n",
       "      <td>{'alpha': 0.01}</td>\n",
       "      <td>-0.537070</td>\n",
       "      <td>0.732028</td>\n",
       "    </tr>\n",
       "  </tbody>\n",
       "</table>\n",
       "</div>"
      ],
      "text/plain": [
       "              model                                        best_params  \\\n",
       "0              OLS                                                  {}   \n",
       "2            Ridge   {'alpha': 10, 'fit_intercept': True, 'solver':...   \n",
       "3          Elastic   {'alpha': 0.01, 'l1_ratio': 0.1, 'max_iter': 1...   \n",
       "4      OLS selected                                                 {}   \n",
       "6    Ridge selected  {'alpha': 10, 'fit_intercept': True, 'solver':...   \n",
       "7  Elastic selected  {'alpha': 0.01, 'l1_ratio': 0.1, 'max_iter': 1...   \n",
       "1            Lasso                                     {'alpha': 0.01}   \n",
       "5    Lasso selected                                    {'alpha': 0.01}   \n",
       "\n",
       "   best score  test rmse  \n",
       "0   -0.527701   0.725522  \n",
       "2   -0.527701   0.725523  \n",
       "3   -0.529448   0.726784  \n",
       "4   -0.531872   0.728391  \n",
       "6   -0.531871   0.728391  \n",
       "7   -0.532423   0.728832  \n",
       "1   -0.537070   0.732028  \n",
       "5   -0.537070   0.732028  "
      ]
     },
     "execution_count": 51,
     "metadata": {},
     "output_type": "execute_result"
    }
   ],
   "source": [
    "metrics.sort_values('test rmse')"
   ]
  },
  {
   "cell_type": "code",
   "execution_count": 52,
   "id": "f47752e5",
   "metadata": {},
   "outputs": [],
   "source": [
    "### I'll try to tune hyperparameters for ridge regression"
   ]
  },
  {
   "cell_type": "code",
   "execution_count": 53,
   "id": "f24c3ed9",
   "metadata": {},
   "outputs": [
    {
     "data": {
      "text/plain": [
       "((240000, 15), (60000, 15))"
      ]
     },
     "execution_count": 53,
     "metadata": {},
     "output_type": "execute_result"
    }
   ],
   "source": [
    "X_train, X_test, y_train, y_test = train_test_split(\n",
    "    df_train.drop(labels=['target'], axis=1),  # drop the target\n",
    "    df_train['target'],  # just the target\n",
    "    test_size=0.2,\n",
    "    random_state=0)\n",
    "\n",
    "X_train.shape, X_test.shape"
   ]
  },
  {
   "cell_type": "code",
   "execution_count": 54,
   "id": "3fd9e68a",
   "metadata": {},
   "outputs": [],
   "source": [
    "X_train.drop('id', axis=1, inplace=True)\n",
    "X_test.drop('id', axis=1, inplace=True)"
   ]
  },
  {
   "cell_type": "code",
   "execution_count": 55,
   "id": "ba2f3660",
   "metadata": {},
   "outputs": [],
   "source": [
    "parameters = {'alpha': np.arange(5, 15, 1),\n",
    "              'fit_intercept': [True],\n",
    "              'solver': ['sag']}\n",
    "model = Ridge()\n",
    "\n",
    "# define the grid search\n",
    "ridge_reg= GridSearchCV(model, parameters, scoring='neg_mean_squared_error',cv=5)"
   ]
  },
  {
   "cell_type": "code",
   "execution_count": 56,
   "id": "b0518f7c",
   "metadata": {},
   "outputs": [
    {
     "data": {
      "text/plain": [
       "GridSearchCV(cv=5, estimator=Ridge(),\n",
       "             param_grid={'alpha': array([ 5,  6,  7,  8,  9, 10, 11, 12, 13, 14]),\n",
       "                         'fit_intercept': [True], 'solver': ['sag']},\n",
       "             scoring='neg_mean_squared_error')"
      ]
     },
     "execution_count": 56,
     "metadata": {},
     "output_type": "execute_result"
    }
   ],
   "source": [
    "ridge_reg.fit(X_train, y_train)"
   ]
  },
  {
   "cell_type": "code",
   "execution_count": 57,
   "id": "9aaebc76",
   "metadata": {},
   "outputs": [
    {
     "data": {
      "text/plain": [
       "Ridge(alpha=9, solver='sag')"
      ]
     },
     "execution_count": 57,
     "metadata": {},
     "output_type": "execute_result"
    }
   ],
   "source": [
    "ridge_reg.best_estimator_"
   ]
  },
  {
   "cell_type": "code",
   "execution_count": 58,
   "id": "d01cef2f",
   "metadata": {},
   "outputs": [],
   "source": [
    "# save the model to disk\n",
    "filename = 'ridge_reg_tuned.sav'\n",
    "pickle.dump(ridge_reg, open(filename, 'wb'))"
   ]
  },
  {
   "cell_type": "code",
   "execution_count": 59,
   "id": "4ca6246d",
   "metadata": {},
   "outputs": [
    {
     "data": {
      "text/plain": [
       "0.7255226570203338"
      ]
     },
     "execution_count": 59,
     "metadata": {},
     "output_type": "execute_result"
    }
   ],
   "source": [
    "mean_squared_error(y_test, ridge_reg.best_estimator_.predict(X_test), squared=False)"
   ]
  },
  {
   "cell_type": "code",
   "execution_count": 60,
   "id": "d97bf58f",
   "metadata": {},
   "outputs": [
    {
     "name": "stderr",
     "output_type": "stream",
     "text": [
      "C:\\Users\\Me\\AppData\\Local\\Temp\\ipykernel_3816\\961455792.py:3: SettingWithCopyWarning: \n",
      "A value is trying to be set on a copy of a slice from a DataFrame.\n",
      "Try using .loc[row_indexer,col_indexer] = value instead\n",
      "\n",
      "See the caveats in the documentation: https://pandas.pydata.org/pandas-docs/stable/user_guide/indexing.html#returning-a-view-versus-a-copy\n",
      "  df_t['target'] = ridge_reg.best_estimator_.predict(df_val)\n"
     ]
    }
   ],
   "source": [
    "df_t = df_val[['id']]\n",
    "df_val.drop('id', axis=1, inplace=True)\n",
    "df_t['target'] = ridge_reg.best_estimator_.predict(df_val)\n",
    "df_t.to_csv(\"ridge_reg_2.csv\", index=False)\n",
    "###### Kaggle results\n",
    "#Score: 0.72704\n",
    "#Public score: 0.72782"
   ]
  },
  {
   "cell_type": "code",
   "execution_count": 61,
   "id": "a49a26fc",
   "metadata": {},
   "outputs": [
    {
     "data": {
      "text/html": [
       "<div>\n",
       "<style scoped>\n",
       "    .dataframe tbody tr th:only-of-type {\n",
       "        vertical-align: middle;\n",
       "    }\n",
       "\n",
       "    .dataframe tbody tr th {\n",
       "        vertical-align: top;\n",
       "    }\n",
       "\n",
       "    .dataframe thead th {\n",
       "        text-align: right;\n",
       "    }\n",
       "</style>\n",
       "<table border=\"1\" class=\"dataframe\">\n",
       "  <thead>\n",
       "    <tr style=\"text-align: right;\">\n",
       "      <th></th>\n",
       "      <th>id</th>\n",
       "      <th>target</th>\n",
       "    </tr>\n",
       "  </thead>\n",
       "  <tbody>\n",
       "    <tr>\n",
       "      <th>count</th>\n",
       "      <td>200000.000000</td>\n",
       "      <td>200000.000000</td>\n",
       "    </tr>\n",
       "    <tr>\n",
       "      <th>mean</th>\n",
       "      <td>250261.031215</td>\n",
       "      <td>7.906009</td>\n",
       "    </tr>\n",
       "    <tr>\n",
       "      <th>std</th>\n",
       "      <td>144128.894365</td>\n",
       "      <td>0.099770</td>\n",
       "    </tr>\n",
       "    <tr>\n",
       "      <th>min</th>\n",
       "      <td>0.000000</td>\n",
       "      <td>7.374037</td>\n",
       "    </tr>\n",
       "    <tr>\n",
       "      <th>25%</th>\n",
       "      <td>125538.250000</td>\n",
       "      <td>7.842406</td>\n",
       "    </tr>\n",
       "    <tr>\n",
       "      <th>50%</th>\n",
       "      <td>250389.500000</td>\n",
       "      <td>7.905832</td>\n",
       "    </tr>\n",
       "    <tr>\n",
       "      <th>75%</th>\n",
       "      <td>375240.250000</td>\n",
       "      <td>7.969869</td>\n",
       "    </tr>\n",
       "    <tr>\n",
       "      <th>max</th>\n",
       "      <td>499990.000000</td>\n",
       "      <td>8.551970</td>\n",
       "    </tr>\n",
       "  </tbody>\n",
       "</table>\n",
       "</div>"
      ],
      "text/plain": [
       "                  id         target\n",
       "count  200000.000000  200000.000000\n",
       "mean   250261.031215       7.906009\n",
       "std    144128.894365       0.099770\n",
       "min         0.000000       7.374037\n",
       "25%    125538.250000       7.842406\n",
       "50%    250389.500000       7.905832\n",
       "75%    375240.250000       7.969869\n",
       "max    499990.000000       8.551970"
      ]
     },
     "execution_count": 61,
     "metadata": {},
     "output_type": "execute_result"
    }
   ],
   "source": [
    "df_t.describe()"
   ]
  },
  {
   "cell_type": "code",
   "execution_count": 62,
   "id": "961bde68",
   "metadata": {},
   "outputs": [],
   "source": [
    "from sklearn.ensemble import RandomForestRegressor"
   ]
  },
  {
   "cell_type": "code",
   "execution_count": 76,
   "id": "152c1e8c",
   "metadata": {},
   "outputs": [
    {
     "data": {
      "text/plain": [
       "((240000, 15), (60000, 15))"
      ]
     },
     "execution_count": 76,
     "metadata": {},
     "output_type": "execute_result"
    }
   ],
   "source": [
    "X_train, X_test, y_train, y_test = train_test_split(\n",
    "    df_train.drop(labels=['target'], axis=1),  # drop the target\n",
    "    df_train['target'],  # just the target\n",
    "    test_size=0.2,\n",
    "    random_state=0)\n",
    "\n",
    "X_train.shape, X_test.shape"
   ]
  },
  {
   "cell_type": "code",
   "execution_count": 77,
   "id": "aa2dd394",
   "metadata": {},
   "outputs": [],
   "source": [
    "X_train.drop('id', axis=1, inplace=True)\n",
    "X_test.drop('id', axis=1, inplace=True)"
   ]
  },
  {
   "cell_type": "code",
   "execution_count": 46,
   "id": "390bd2e7",
   "metadata": {},
   "outputs": [],
   "source": [
    "tuned_parameters = {'n_estimators': [500, 750, 1000], \n",
    "                     'max_depth': [2, 6, 10]\n",
    "                    }"
   ]
  },
  {
   "cell_type": "code",
   "execution_count": 47,
   "id": "99709642",
   "metadata": {},
   "outputs": [],
   "source": [
    "rfr = RandomForestRegressor()"
   ]
  },
  {
   "cell_type": "code",
   "execution_count": 48,
   "id": "3d0a8630",
   "metadata": {},
   "outputs": [
    {
     "name": "stdout",
     "output_type": "stream",
     "text": [
      "Fitting 4 folds for each of 9 candidates, totalling 36 fits\n",
      "[CV 1/4; 1/9] START max_depth=2, n_estimators=500...............................\n",
      "[CV 1/4; 1/9] END max_depth=2, n_estimators=500;, score=-0.529 total time= 2.9min\n",
      "[CV 2/4; 1/9] START max_depth=2, n_estimators=500...............................\n",
      "[CV 2/4; 1/9] END max_depth=2, n_estimators=500;, score=-0.532 total time= 3.0min\n",
      "[CV 3/4; 1/9] START max_depth=2, n_estimators=500...............................\n",
      "[CV 3/4; 1/9] END max_depth=2, n_estimators=500;, score=-0.531 total time= 3.0min\n",
      "[CV 4/4; 1/9] START max_depth=2, n_estimators=500...............................\n",
      "[CV 4/4; 1/9] END max_depth=2, n_estimators=500;, score=-0.528 total time= 3.0min\n",
      "[CV 1/4; 2/9] START max_depth=2, n_estimators=750...............................\n",
      "[CV 1/4; 2/9] END max_depth=2, n_estimators=750;, score=-0.529 total time= 4.4min\n",
      "[CV 2/4; 2/9] START max_depth=2, n_estimators=750...............................\n",
      "[CV 2/4; 2/9] END max_depth=2, n_estimators=750;, score=-0.532 total time= 4.4min\n",
      "[CV 3/4; 2/9] START max_depth=2, n_estimators=750...............................\n",
      "[CV 3/4; 2/9] END max_depth=2, n_estimators=750;, score=-0.531 total time= 4.4min\n",
      "[CV 4/4; 2/9] START max_depth=2, n_estimators=750...............................\n",
      "[CV 4/4; 2/9] END max_depth=2, n_estimators=750;, score=-0.528 total time= 4.4min\n",
      "[CV 1/4; 3/9] START max_depth=2, n_estimators=1000..............................\n",
      "[CV 1/4; 3/9] END max_depth=2, n_estimators=1000;, score=-0.529 total time= 5.9min\n",
      "[CV 2/4; 3/9] START max_depth=2, n_estimators=1000..............................\n",
      "[CV 2/4; 3/9] END max_depth=2, n_estimators=1000;, score=-0.532 total time= 5.9min\n",
      "[CV 3/4; 3/9] START max_depth=2, n_estimators=1000..............................\n",
      "[CV 3/4; 3/9] END max_depth=2, n_estimators=1000;, score=-0.531 total time= 5.9min\n",
      "[CV 4/4; 3/9] START max_depth=2, n_estimators=1000..............................\n",
      "[CV 4/4; 3/9] END max_depth=2, n_estimators=1000;, score=-0.528 total time= 5.7min\n",
      "[CV 1/4; 4/9] START max_depth=6, n_estimators=500...............................\n",
      "[CV 1/4; 4/9] END max_depth=6, n_estimators=500;, score=-0.515 total time= 8.0min\n",
      "[CV 2/4; 4/9] START max_depth=6, n_estimators=500...............................\n",
      "[CV 2/4; 4/9] END max_depth=6, n_estimators=500;, score=-0.518 total time= 8.2min\n",
      "[CV 3/4; 4/9] START max_depth=6, n_estimators=500...............................\n",
      "[CV 3/4; 4/9] END max_depth=6, n_estimators=500;, score=-0.517 total time= 8.3min\n",
      "[CV 4/4; 4/9] START max_depth=6, n_estimators=500...............................\n",
      "[CV 4/4; 4/9] END max_depth=6, n_estimators=500;, score=-0.515 total time= 8.2min\n",
      "[CV 1/4; 5/9] START max_depth=6, n_estimators=750...............................\n",
      "[CV 1/4; 5/9] END max_depth=6, n_estimators=750;, score=-0.515 total time=12.3min\n",
      "[CV 2/4; 5/9] START max_depth=6, n_estimators=750...............................\n",
      "[CV 2/4; 5/9] END max_depth=6, n_estimators=750;, score=-0.518 total time=12.2min\n",
      "[CV 3/4; 5/9] START max_depth=6, n_estimators=750...............................\n",
      "[CV 3/4; 5/9] END max_depth=6, n_estimators=750;, score=-0.517 total time=12.1min\n",
      "[CV 4/4; 5/9] START max_depth=6, n_estimators=750...............................\n",
      "[CV 4/4; 5/9] END max_depth=6, n_estimators=750;, score=-0.515 total time=12.3min\n",
      "[CV 1/4; 6/9] START max_depth=6, n_estimators=1000..............................\n",
      "[CV 1/4; 6/9] END max_depth=6, n_estimators=1000;, score=-0.515 total time=16.4min\n",
      "[CV 2/4; 6/9] START max_depth=6, n_estimators=1000..............................\n",
      "[CV 2/4; 6/9] END max_depth=6, n_estimators=1000;, score=-0.518 total time=16.3min\n",
      "[CV 3/4; 6/9] START max_depth=6, n_estimators=1000..............................\n",
      "[CV 3/4; 6/9] END max_depth=6, n_estimators=1000;, score=-0.517 total time=16.2min\n",
      "[CV 4/4; 6/9] START max_depth=6, n_estimators=1000..............................\n",
      "[CV 4/4; 6/9] END max_depth=6, n_estimators=1000;, score=-0.515 total time=16.4min\n",
      "[CV 1/4; 7/9] START max_depth=10, n_estimators=500..............................\n",
      "[CV 1/4; 7/9] END max_depth=10, n_estimators=500;, score=-0.505 total time=12.6min\n",
      "[CV 2/4; 7/9] START max_depth=10, n_estimators=500..............................\n",
      "[CV 2/4; 7/9] END max_depth=10, n_estimators=500;, score=-0.507 total time=12.5min\n",
      "[CV 3/4; 7/9] START max_depth=10, n_estimators=500..............................\n",
      "[CV 3/4; 7/9] END max_depth=10, n_estimators=500;, score=-0.506 total time=12.6min\n",
      "[CV 4/4; 7/9] START max_depth=10, n_estimators=500..............................\n",
      "[CV 4/4; 7/9] END max_depth=10, n_estimators=500;, score=-0.505 total time=12.6min\n",
      "[CV 1/4; 8/9] START max_depth=10, n_estimators=750..............................\n",
      "[CV 1/4; 8/9] END max_depth=10, n_estimators=750;, score=-0.505 total time=18.9min\n",
      "[CV 2/4; 8/9] START max_depth=10, n_estimators=750..............................\n",
      "[CV 2/4; 8/9] END max_depth=10, n_estimators=750;, score=-0.507 total time=19.1min\n",
      "[CV 3/4; 8/9] START max_depth=10, n_estimators=750..............................\n",
      "[CV 3/4; 8/9] END max_depth=10, n_estimators=750;, score=-0.506 total time=18.8min\n",
      "[CV 4/4; 8/9] START max_depth=10, n_estimators=750..............................\n",
      "[CV 4/4; 8/9] END max_depth=10, n_estimators=750;, score=-0.504 total time=19.1min\n",
      "[CV 1/4; 9/9] START max_depth=10, n_estimators=1000.............................\n",
      "[CV 1/4; 9/9] END max_depth=10, n_estimators=1000;, score=-0.505 total time=25.9min\n",
      "[CV 2/4; 9/9] START max_depth=10, n_estimators=1000.............................\n",
      "[CV 2/4; 9/9] END max_depth=10, n_estimators=1000;, score=-0.507 total time=25.9min\n",
      "[CV 3/4; 9/9] START max_depth=10, n_estimators=1000.............................\n",
      "[CV 3/4; 9/9] END max_depth=10, n_estimators=1000;, score=-0.506 total time=25.9min\n",
      "[CV 4/4; 9/9] START max_depth=10, n_estimators=1000.............................\n",
      "[CV 4/4; 9/9] END max_depth=10, n_estimators=1000;, score=-0.505 total time=25.9min\n"
     ]
    },
    {
     "data": {
      "text/plain": [
       "GridSearchCV(cv=4, estimator=RandomForestRegressor(),\n",
       "             param_grid={'max_depth': [2, 6, 10],\n",
       "                         'n_estimators': [500, 750, 1000]},\n",
       "             scoring='neg_mean_squared_error', verbose=10)"
      ]
     },
     "execution_count": 48,
     "metadata": {},
     "output_type": "execute_result"
    }
   ],
   "source": [
    "random_forest_cv = GridSearchCV(rfr, tuned_parameters, cv=4, scoring='neg_mean_squared_error', verbose=10)\n",
    "random_forest_cv.fit(X_train, y_train)"
   ]
  },
  {
   "cell_type": "code",
   "execution_count": 49,
   "id": "b2e2b336",
   "metadata": {},
   "outputs": [
    {
     "data": {
      "text/plain": [
       "RandomForestRegressor(max_depth=10, n_estimators=750)"
      ]
     },
     "execution_count": 49,
     "metadata": {},
     "output_type": "execute_result"
    }
   ],
   "source": [
    "random_forest_cv.best_estimator_"
   ]
  },
  {
   "cell_type": "code",
   "execution_count": 50,
   "id": "1c213013",
   "metadata": {},
   "outputs": [
    {
     "data": {
      "text/plain": [
       "0.7107028753163503"
      ]
     },
     "execution_count": 50,
     "metadata": {},
     "output_type": "execute_result"
    }
   ],
   "source": [
    "mean_squared_error(y_test, random_forest_cv.best_estimator_.predict(X_test), squared=False)"
   ]
  },
  {
   "cell_type": "code",
   "execution_count": 79,
   "id": "c7174ba3",
   "metadata": {},
   "outputs": [
    {
     "data": {
      "text/plain": [
       "RandomForestRegressor(max_depth=10, n_estimators=750)"
      ]
     },
     "execution_count": 79,
     "metadata": {},
     "output_type": "execute_result"
    }
   ],
   "source": [
    "rf_model = RandomForestRegressor(max_depth=10, n_estimators=750)\n",
    "rf_model.fit(X_train,y_train)"
   ]
  },
  {
   "cell_type": "code",
   "execution_count": 70,
   "id": "ce783443",
   "metadata": {},
   "outputs": [],
   "source": [
    "filename = 'random_forest_reg.sav'\n",
    "pickle.dump(random_forest_cv.best_estimator_, open(filename, 'wb'))"
   ]
  },
  {
   "cell_type": "code",
   "execution_count": 83,
   "id": "396cfd50",
   "metadata": {},
   "outputs": [],
   "source": [
    "y_val = rf_model.predict(df_val)"
   ]
  },
  {
   "cell_type": "code",
   "execution_count": 90,
   "id": "187cb861",
   "metadata": {},
   "outputs": [],
   "source": [
    "df_val = pd.read_csv('data/test.csv')\n",
    "df_t = df_val[['id']]\n",
    "df_val.drop('id', axis=1, inplace=True)\n",
    "df_t.insert(1, \"target\", y_val.tolist(), True)\n",
    "df_t.to_csv(\"random_forest.csv\", index=False)\n",
    "#Score: 0.71122\n",
    "#Public score: 0.71255"
   ]
  },
  {
   "cell_type": "code",
   "execution_count": 91,
   "id": "ae3f6b70",
   "metadata": {},
   "outputs": [
    {
     "data": {
      "text/html": [
       "<div>\n",
       "<style scoped>\n",
       "    .dataframe tbody tr th:only-of-type {\n",
       "        vertical-align: middle;\n",
       "    }\n",
       "\n",
       "    .dataframe tbody tr th {\n",
       "        vertical-align: top;\n",
       "    }\n",
       "\n",
       "    .dataframe thead th {\n",
       "        text-align: right;\n",
       "    }\n",
       "</style>\n",
       "<table border=\"1\" class=\"dataframe\">\n",
       "  <thead>\n",
       "    <tr style=\"text-align: right;\">\n",
       "      <th></th>\n",
       "      <th>id</th>\n",
       "      <th>target</th>\n",
       "    </tr>\n",
       "  </thead>\n",
       "  <tbody>\n",
       "    <tr>\n",
       "      <th>count</th>\n",
       "      <td>200000.000000</td>\n",
       "      <td>200000.000000</td>\n",
       "    </tr>\n",
       "    <tr>\n",
       "      <th>mean</th>\n",
       "      <td>250261.031215</td>\n",
       "      <td>7.905330</td>\n",
       "    </tr>\n",
       "    <tr>\n",
       "      <th>std</th>\n",
       "      <td>144128.894365</td>\n",
       "      <td>0.157343</td>\n",
       "    </tr>\n",
       "    <tr>\n",
       "      <th>min</th>\n",
       "      <td>0.000000</td>\n",
       "      <td>7.171000</td>\n",
       "    </tr>\n",
       "    <tr>\n",
       "      <th>25%</th>\n",
       "      <td>125538.250000</td>\n",
       "      <td>7.803301</td>\n",
       "    </tr>\n",
       "    <tr>\n",
       "      <th>50%</th>\n",
       "      <td>250389.500000</td>\n",
       "      <td>7.887316</td>\n",
       "    </tr>\n",
       "    <tr>\n",
       "      <th>75%</th>\n",
       "      <td>375240.250000</td>\n",
       "      <td>7.995759</td>\n",
       "    </tr>\n",
       "    <tr>\n",
       "      <th>max</th>\n",
       "      <td>499990.000000</td>\n",
       "      <td>9.093934</td>\n",
       "    </tr>\n",
       "  </tbody>\n",
       "</table>\n",
       "</div>"
      ],
      "text/plain": [
       "                  id         target\n",
       "count  200000.000000  200000.000000\n",
       "mean   250261.031215       7.905330\n",
       "std    144128.894365       0.157343\n",
       "min         0.000000       7.171000\n",
       "25%    125538.250000       7.803301\n",
       "50%    250389.500000       7.887316\n",
       "75%    375240.250000       7.995759\n",
       "max    499990.000000       9.093934"
      ]
     },
     "execution_count": 91,
     "metadata": {},
     "output_type": "execute_result"
    }
   ],
   "source": [
    "df_t.describe()"
   ]
  },
  {
   "cell_type": "code",
   "execution_count": null,
   "id": "64890949",
   "metadata": {},
   "outputs": [],
   "source": []
  }
 ],
 "metadata": {
  "kernelspec": {
   "display_name": "Python 3 (ipykernel)",
   "language": "python",
   "name": "python3"
  },
  "language_info": {
   "codemirror_mode": {
    "name": "ipython",
    "version": 3
   },
   "file_extension": ".py",
   "mimetype": "text/x-python",
   "name": "python",
   "nbconvert_exporter": "python",
   "pygments_lexer": "ipython3",
   "version": "3.9.12"
  }
 },
 "nbformat": 4,
 "nbformat_minor": 5
}
